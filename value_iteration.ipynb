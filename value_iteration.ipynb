{
 "cells": [
  {
   "cell_type": "code",
   "execution_count": null,
   "id": "da1fe2ed",
   "metadata": {},
   "outputs": [],
   "source": [
    "from IPython.core.debugger import set_trace\n",
    "import numpy as np\n",
    "import pprint\n",
    "import sys\n",
    "if \"../\" not in sys.path:\n",
    "    sys.path.append(\"../\")\n",
    "from lib.envs.gridworld import GridworldEnv"
   ]
  },
  {
   "cell_type": "code",
   "execution_count": null,
   "id": "c2717ca1",
   "metadata": {},
   "outputs": [],
   "source": [
    "pp = pprint.PrettyPrinter(indent=2)\n",
    "env = GridworldEnv()"
   ]
  },
  {
   "cell_type": "code",
   "execution_count": null,
   "id": "16e5b121",
   "metadata": {},
   "outputs": [],
   "source": [
    "def Value_Iteration(env, theta=0.0001, discount_factor=1.0):\n",
    "    \"\"\"\n",
    "    Algorithm for value iteration. Value iteration means corresponding to each state, we calculate\n",
    "    the value for each action that is possible and update the best action based on the value.\n",
    "\n",
    "    Args:\n",
    "        env: OpenAI env. env.P represents the trasition probabilities for the environment.\n",
    "            env.P[s][a] is a list of transition tuples (prob, next_state, reward, done).\n",
    "            env.nS is the number of states in the environment.\n",
    "            env.nA is the number of actions in the environment.\n",
    "        theta: We stop evaluation once our value function change is less than theta for all states\n",
    "\n",
    "    Returns:\n",
    "        a tuple (policy, V) of the optimal policy and the optimal value function.\n",
    "    \"\"\"\n",
    "\n",
    "    def one_step_lookahed(state, V):\n",
    "        \"\"\"\n",
    "        Helper function to calculate the value for all action in a given state.\n",
    "        Args:\n",
    "            state: The state to consider (int)\n",
    "            V: The value to use as an estimator, vector of length env.nS\n",
    "        Returns:\n",
    "            A vector of length env.nA containing the expected value of each action.\n",
    "        \"\"\"\n",
    "        A = np.zeros(env.nA)\n",
    "        for a in range(env.nA):\n",
    "            for prob, next_state, reward, done in env.P[state][a]:\n",
    "                A[a] += prob * (reward + discount_factor*V[next_state])\n",
    "\n",
    "        return A\n",
    "    \n",
    "    V = np.zeros(env.nS)\n",
    "    while True:\n",
    "        delta = 0\n",
    "        for s in range(env.nS):\n",
    "            A = one_step_lookahed(s, V)\n",
    "            best_action_value = np.max(A)\n",
    "            delta = max(delta, np.abs(best_action_value - V[s]))\n",
    "            V[s] = best_action_value\n",
    "        if delta < theta:\n",
    "            break\n",
    "    \n",
    "    #Create a deterministic policy\n",
    "    policy = np.zeros([env.nS, env.nA])\n",
    "    for s in range(env.nS):\n",
    "        A = one_step_lookahed(s, V)\n",
    "        best_action = np.argmax(A)\n",
    "        policy[s, best_action] = 1.0\n",
    "\n",
    "    return policy, V\n",
    "\n"
   ]
  }
 ],
 "metadata": {
  "kernelspec": {
   "display_name": "rl",
   "language": "python",
   "name": "python3"
  },
  "language_info": {
   "name": "python",
   "version": "3.12.8"
  }
 },
 "nbformat": 4,
 "nbformat_minor": 5
}

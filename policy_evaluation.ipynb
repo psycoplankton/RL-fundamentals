{
 "cells": [
  {
   "cell_type": "code",
   "execution_count": 2,
   "metadata": {},
   "outputs": [],
   "source": [
    "from IPython.core.debugger import set_trace\n",
    "import numpy as np\n",
    "import pprint\n",
    "import sys\n",
    "if \"../\" not in sys.path:\n",
    "    sys.path.append(\"../\")\n",
    "from lib.envs.gridworld import GridworldEnv"
   ]
  },
  {
   "cell_type": "code",
   "execution_count": null,
   "metadata": {},
   "outputs": [],
   "source": [
    "pp = pprint.PrettyPrinter(indent=2)\n",
    "env = GridworldEnv()"
   ]
  },
  {
   "cell_type": "code",
   "execution_count": 3,
   "metadata": {},
   "outputs": [],
   "source": [
    "def policy_evaluation(policy, env, discount_factor=1.0, theta=1e-5):\n",
    "    \"\"\"\n",
    "    Function to evaluate the value function. Policy evalution means the process of calculating the value\n",
    "    function for a given policy. \n",
    "\n",
    "    Arguments:\n",
    "        policy: [S, A] shaped matrix representing the policy. For each [S, A] entry, it has a probability value.\n",
    "        env: The environment to evaluate the policy in.\n",
    "            env.P[s][a] -> is a list of transition tuples (probability, next_state, reward, done)\n",
    "            env.nS -> number of states in the environment\n",
    "            env.nA -> number of actions in the environment\n",
    "        discount_factor: Gamma discount factor. It determines how much importance we give to future rewards.\n",
    "        theta: We stop evaluation once ou value function change is less that theta for every state.\n",
    "    \n",
    "    Returns:   \n",
    "        V: A vector of length env.nS representing the value function for each state.\n",
    "\n",
    "    \"\"\"\n",
    "\n",
    "    # Start with a random (all 0) value function\n",
    "    V = np.zeros(env.nS)\n",
    "    while True:\n",
    "        delta = 0 #keeps track of the maximum change in the value function over all states.\n",
    "        #For each state, perform a \"full backup\"\n",
    "        for states in range(env.nS):\n",
    "            v = 0\n",
    "            for action, action_prob in enumerate(policy[states]):\n",
    "                for prob, next_state, reward, done in env.P[states][action]:\n",
    "                    v += action_prob * prob * (reward + discount_factor * V[next_state]) #bellman equation update\n",
    "            delta = max(delta, np.abs(v - V[states])) # calculate the maximum change in value function.\n",
    "            V[states] = v\n",
    "        if delta < theta:\n",
    "            break\n",
    "    return V\n",
    "         "
   ]
  },
  {
   "cell_type": "code",
   "execution_count": null,
   "metadata": {},
   "outputs": [],
   "source": [
    "random_policy = np.ones([env.nS, env.nA]) / env.nA\n",
    "V = policy_evaluation(random_policy, env)"
   ]
  }
 ],
 "metadata": {
  "kernelspec": {
   "display_name": "rl",
   "language": "python",
   "name": "python3"
  },
  "language_info": {
   "codemirror_mode": {
    "name": "ipython",
    "version": 3
   },
   "file_extension": ".py",
   "mimetype": "text/x-python",
   "name": "python",
   "nbconvert_exporter": "python",
   "pygments_lexer": "ipython3",
   "version": "3.12.8"
  }
 },
 "nbformat": 4,
 "nbformat_minor": 2
}
